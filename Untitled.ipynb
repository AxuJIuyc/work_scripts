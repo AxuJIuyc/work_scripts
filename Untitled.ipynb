{
 "cells": [
  {
   "cell_type": "code",
   "execution_count": 1,
   "id": "78cd1018",
   "metadata": {},
   "outputs": [],
   "source": [
    "import json"
   ]
  },
  {
   "cell_type": "code",
   "execution_count": 2,
   "id": "b7db2652",
   "metadata": {},
   "outputs": [],
   "source": [
    "d = {\"images\":[\n",
    "        {\n",
    "            \"id\":1,\n",
    "            \"width\":640,\n",
    "            \"height\":480,\n",
    "            \"file_name\":\"12.png\",\n",
    "            \"license\":0,\n",
    "            \"flickr_url\":\"\",\n",
    "            \"coco_url\":\"\",\n",
    "            \"date_captured\":0\n",
    "        },\n",
    "        {\n",
    "            \"id\":2,\n",
    "            \"width\":640,\n",
    "            \"height\":480,\n",
    "            \"file_name\":\"23.png\",\n",
    "            \"license\":0,\n",
    "            \"flickr_url\":\"\",\n",
    "            \"coco_url\":\"\",\n",
    "            \"date_captured\":0\n",
    "        },\n",
    "        {\n",
    "            \"id\":3,\n",
    "            \"width\":640,\n",
    "            \"height\":480,\n",
    "            \"file_name\":\"26.png\",\n",
    "            \"license\":0,\n",
    "            \"flickr_url\":\"\",\n",
    "            \"coco_url\":\"\",\n",
    "            \"date_captured\":0\n",
    "        }\n",
    "]}"
   ]
  },
  {
   "cell_type": "code",
   "execution_count": 18,
   "id": "3fc8c704",
   "metadata": {},
   "outputs": [
    {
     "name": "stdout",
     "output_type": "stream",
     "text": [
      "False\n",
      "True\n",
      "False\n"
     ]
    }
   ],
   "source": [
    "img = '23.png'\n",
    "for x in d['images']:\n",
    "    if x['file_name'] == '23.png':\n",
    "        print(True)\n",
    "    else:\n",
    "        print(False)"
   ]
  },
  {
   "cell_type": "code",
   "execution_count": 28,
   "id": "8c132b85",
   "metadata": {},
   "outputs": [],
   "source": [
    "img_dict = {}\n",
    "img_dict.update({img:len(img_dict)+1})"
   ]
  },
  {
   "cell_type": "code",
   "execution_count": 22,
   "id": "ab2db5f4",
   "metadata": {},
   "outputs": [
    {
     "data": {
      "text/plain": [
       "1"
      ]
     },
     "execution_count": 22,
     "metadata": {},
     "output_type": "execute_result"
    }
   ],
   "source": [
    "len(img_dict)"
   ]
  },
  {
   "cell_type": "code",
   "execution_count": 29,
   "id": "efef96df",
   "metadata": {},
   "outputs": [
    {
     "data": {
      "text/plain": [
       "{'23.png': 1}"
      ]
     },
     "execution_count": 29,
     "metadata": {},
     "output_type": "execute_result"
    }
   ],
   "source": [
    "img_dict"
   ]
  },
  {
   "cell_type": "code",
   "execution_count": 35,
   "id": "7fea7cbc",
   "metadata": {},
   "outputs": [],
   "source": [
    "a = []\n",
    "a += [1, 2, 3]\n",
    "a += [1, 2, 3]"
   ]
  },
  {
   "cell_type": "code",
   "execution_count": 36,
   "id": "238cf8ee",
   "metadata": {},
   "outputs": [
    {
     "data": {
      "text/plain": [
       "[1, 2, 3, 1, 2, 3]"
      ]
     },
     "execution_count": 36,
     "metadata": {},
     "output_type": "execute_result"
    }
   ],
   "source": [
    "a"
   ]
  },
  {
   "cell_type": "code",
   "execution_count": 37,
   "id": "c216f52b",
   "metadata": {},
   "outputs": [],
   "source": [
    "c = {\"points\": [\n",
    "        [\n",
    "          104,\n",
    "          77\n",
    "        ],\n",
    "        [\n",
    "          210,\n",
    "          200\n",
    "        ]\n",
    "]}\n"
   ]
  },
  {
   "cell_type": "code",
   "execution_count": 39,
   "id": "af848eda",
   "metadata": {},
   "outputs": [
    {
     "data": {
      "text/plain": [
       "[[104, 77], [210, 200]]"
      ]
     },
     "execution_count": 39,
     "metadata": {},
     "output_type": "execute_result"
    }
   ],
   "source": [
    "c['points']"
   ]
  },
  {
   "cell_type": "code",
   "execution_count": 66,
   "id": "6def2614",
   "metadata": {},
   "outputs": [
    {
     "data": {
      "text/plain": [
       "[104, 77, 210, 200]"
      ]
     },
     "execution_count": 66,
     "metadata": {},
     "output_type": "execute_result"
    }
   ],
   "source": [
    "a = []\n",
    "a = c['points'][0][:] + c['points'][1][:]\n",
    "# a += (c['points'][1][:])\n",
    "a"
   ]
  },
  {
   "cell_type": "code",
   "execution_count": null,
   "id": "5ed6510b",
   "metadata": {},
   "outputs": [],
   "source": []
  },
  {
   "cell_type": "code",
   "execution_count": 67,
   "id": "08e3793f",
   "metadata": {},
   "outputs": [],
   "source": [
    "from datetime import time\n",
    "from datetime import datetime"
   ]
  },
  {
   "cell_type": "code",
   "execution_count": 70,
   "id": "b51327e6",
   "metadata": {},
   "outputs": [
    {
     "data": {
      "text/plain": [
       "datetime.datetime(2023, 4, 3, 10, 37, 52, 644869)"
      ]
     },
     "execution_count": 70,
     "metadata": {},
     "output_type": "execute_result"
    }
   ],
   "source": [
    "t1 = datetime.now()\n"
   ]
  },
  {
   "cell_type": "code",
   "execution_count": 72,
   "id": "09eb76ae",
   "metadata": {},
   "outputs": [
    {
     "name": "stdout",
     "output_type": "stream",
     "text": [
      "0:02:22.471972\n"
     ]
    }
   ],
   "source": [
    "t2=datetime.now() \n",
    "delta = t2 - t1\n",
    "print(delta)"
   ]
  },
  {
   "cell_type": "code",
   "execution_count": 73,
   "id": "d1805e51",
   "metadata": {},
   "outputs": [
    {
     "ename": "SyntaxError",
     "evalue": "invalid syntax (3306689037.py, line 1)",
     "output_type": "error",
     "traceback": [
      "\u001b[0;36m  Input \u001b[0;32mIn [73]\u001b[0;36m\u001b[0m\n\u001b[0;31m    \"area\": 19073.595999999994, \"bbox\": [56.65, 57.67, 128.2, 148.78],\u001b[0m\n\u001b[0m                              ^\u001b[0m\n\u001b[0;31mSyntaxError\u001b[0m\u001b[0;31m:\u001b[0m invalid syntax\n"
     ]
    }
   ],
   "source": [
    "\"area\": 19073.595999999994, \"bbox\": [56.65, 57.67, 128.2, 148.78], "
   ]
  },
  {
   "cell_type": "code",
   "execution_count": 74,
   "id": "1dd49671",
   "metadata": {},
   "outputs": [
    {
     "name": "stdout",
     "output_type": "stream",
     "text": [
      "72 91 6552\n"
     ]
    }
   ],
   "source": [
    "dx = 128 - 56\n",
    "dy = 148 - 57\n",
    "print(dx, dy, dx*dy)"
   ]
  },
  {
   "cell_type": "code",
   "execution_count": 76,
   "id": "5337e88d",
   "metadata": {},
   "outputs": [
    {
     "name": "stdout",
     "output_type": "stream",
     "text": [
      "19073.595999999998\n"
     ]
    }
   ],
   "source": [
    "print(128.2*148.78)"
   ]
  },
  {
   "cell_type": "code",
   "execution_count": 2,
   "id": "5badd645",
   "metadata": {},
   "outputs": [
    {
     "name": "stdout",
     "output_type": "stream",
     "text": [
      "1) {'1': 2, '2': [4, 5]}\n",
      "2) {'1': 2, '2': [4, 5], '3': 10} {'1': 2, '2': [4, 5]}\n",
      "3) {'1': 2, '2': [4, 5, 8], '3': 10} {'1': 2, '2': [4, 5]}\n",
      "4) {'1': 2, '2': [4, 5, 8], '3': 10} {'1': 2}\n",
      "5) {'1': 2, '2': [4, 5, 8, 19], '3': 10} {'1': 2}\n"
     ]
    }
   ],
   "source": [
    "import copy\n",
    "a = {\"1\": 2, \"2\": [4, 5]}\n",
    "b = copy.deepcopy(a)\n",
    "print('1)',b)\n",
    "a.update({\"3\":10})\n",
    "print('2)',a, b)\n",
    "a['2'].append(8)\n",
    "print('3)',a, b)\n",
    "b.pop('2')\n",
    "print('4)',a, b)\n",
    "a['2'].append(19)\n",
    "print('5)',a, b)\n"
   ]
  },
  {
   "cell_type": "code",
   "execution_count": 5,
   "id": "dba6fa50",
   "metadata": {},
   "outputs": [
    {
     "data": {
      "text/plain": [
       "{'1': 2, '3': 10}"
      ]
     },
     "execution_count": 5,
     "metadata": {},
     "output_type": "execute_result"
    }
   ],
   "source": [
    "a.pop('2')\n",
    "a"
   ]
  },
  {
   "cell_type": "code",
   "execution_count": 38,
   "id": "790becc6",
   "metadata": {},
   "outputs": [
    {
     "data": {
      "text/plain": [
       "['.', 'k']"
      ]
     },
     "execution_count": 38,
     "metadata": {},
     "output_type": "execute_result"
    }
   ],
   "source": [
    "import os\n",
    "a = \"aea/sd.sr\"\n",
    "b = \"./k/mk.lk\"\n",
    "c1 = b.split('/')[0]\n",
    "c2 = b.split('/')[-1]\n",
    "c = b.split('/')\n",
    "# os.path.join(sum(c[:-1]), c[-1])"
   ]
  },
  {
   "cell_type": "code",
   "execution_count": 41,
   "id": "63130379",
   "metadata": {},
   "outputs": [
    {
     "data": {
      "text/plain": [
       "[1, 1, 1, 1]"
      ]
     },
     "execution_count": 41,
     "metadata": {},
     "output_type": "execute_result"
    }
   ],
   "source": [
    "a = [1, 1, 1, 1]\n",
    "a[:]"
   ]
  },
  {
   "cell_type": "code",
   "execution_count": 43,
   "id": "127edf3a",
   "metadata": {},
   "outputs": [
    {
     "name": "stdout",
     "output_type": "stream",
     "text": [
      "None\n"
     ]
    }
   ],
   "source": [
    "a = None\n",
    "if not a:\n",
    "    print(a)"
   ]
  },
  {
   "cell_type": "code",
   "execution_count": 47,
   "id": "c005cd05",
   "metadata": {},
   "outputs": [
    {
     "data": {
      "text/plain": [
       "[{'b1': [1, 2, 3], 'b2': [4, 5, 6]},\n",
       " {'b3': [1, 2, 3], 'b4': [4, 5, 6], 'b5': [7, 8]}]"
      ]
     },
     "execution_count": 47,
     "metadata": {},
     "output_type": "execute_result"
    }
   ],
   "source": [
    "a = []\n",
    "a.append({'b1': [1, 2, 3],\n",
    "          'b2': [4, 5, 6]})\n",
    "a.append({'b3': [1, 2, 3],\n",
    "          'b4': [4, 5, 6]})\n",
    "a[-1].update({'b5': [7, 8]})\n",
    "a"
   ]
  },
  {
   "cell_type": "code",
   "execution_count": 68,
   "id": "87fcb87c",
   "metadata": {},
   "outputs": [
    {
     "name": "stdout",
     "output_type": "stream",
     "text": [
      "yes\n"
     ]
    }
   ],
   "source": [
    "a = {'b': 2, 'kp': 0}\n",
    "if 'kp' in a:\n",
    "    print('yes')\n",
    "else:\n",
    "    print('no')"
   ]
  },
  {
   "cell_type": "code",
   "execution_count": 93,
   "id": "573ebb3e",
   "metadata": {},
   "outputs": [
    {
     "data": {
      "text/plain": [
       "[[[1, 2], [3, 4]], [[1, 2], [3, 4]]]"
      ]
     },
     "execution_count": 93,
     "metadata": {},
     "output_type": "execute_result"
    }
   ],
   "source": [
    "b = []\n",
    "b.append([])\n",
    "b[-1].append([1,2])\n",
    "b[-1].append([3,4])\n",
    "b.append([])\n",
    "b[-1].append([1,2])\n",
    "b[-1].append([3,4])\n",
    "b"
   ]
  },
  {
   "cell_type": "code",
   "execution_count": 79,
   "id": "4cb87254",
   "metadata": {},
   "outputs": [
    {
     "name": "stdout",
     "output_type": "stream",
     "text": [
      "206.16 229.15\n",
      "229.64 229.59\n",
      "336.14 234.08\n",
      "360.74 235.73\n",
      "371.06 239.51\n",
      "369.49 264.44\n",
      "359.24 268.68\n",
      "334.36 267.13\n",
      "227.27 262.85\n",
      "204.41 262.74\n"
     ]
    }
   ],
   "source": [
    "b = [206.16, 229.15, 2, 229.64, 229.59, 2, 336.14, 234.08, 2, 360.74, 235.73, 2, 371.06, 239.51, 2, 369.49, 264.44, 2, 359.24, 268.68, 2, 334.36, 267.13, 2, 227.27, 262.85, 2, 204.41, 262.74, 2]\n",
    "for x, y in zip(b[0::3], b[1::3]):\n",
    "    print(x, y)"
   ]
  },
  {
   "cell_type": "code",
   "execution_count": 94,
   "id": "259fd8bb",
   "metadata": {},
   "outputs": [
    {
     "data": {
      "text/plain": [
       "[1, 3]"
      ]
     },
     "execution_count": 94,
     "metadata": {},
     "output_type": "execute_result"
    }
   ],
   "source": [
    "a = [1, 2, 3]\n",
    "a.pop(1)\n",
    "a"
   ]
  },
  {
   "cell_type": "code",
   "execution_count": 102,
   "id": "63253d8e",
   "metadata": {},
   "outputs": [
    {
     "name": "stdout",
     "output_type": "stream",
     "text": [
      "9\n",
      "6\n",
      "3\n"
     ]
    }
   ],
   "source": [
    "a = [1,2,3,4,5,6,7,8,9]\n",
    "for i in range(len(a)-1, -1, -3):\n",
    "    print(a[i])"
   ]
  },
  {
   "cell_type": "code",
   "execution_count": 103,
   "id": "a2529104",
   "metadata": {},
   "outputs": [],
   "source": [
    "def search_min_coords(points):\n",
    "    \"\"\"\n",
    "    Поиск точки, ближайшей к началу кординат\n",
    "    \"\"\"\n",
    "    assert len(points) >= 4, \"Points must contain at least 4 coordinates [x1, y1, x2, y2]\"\n",
    "    # инициализация переменных минимальной длины вектора и его индекса\n",
    "    min_len = (points[0]**2 + points[1]**2)**0.5\n",
    "    min_index = 0\n",
    "\n",
    "    # цикл прохода по массиву точек с шагом 2\n",
    "    for i in range(2, len(points), 2):\n",
    "        # получение текущих координат\n",
    "        x = points[i]\n",
    "        y = points[i+1]\n",
    "        # вычисление длины вектора\n",
    "        len_vec = (x**2 + y**2)**0.5\n",
    "        # проверка на минимальность длины вектора\n",
    "        if len_vec < min_len:\n",
    "            # print(\">\", x, y, len_vec)\n",
    "            min_len = len_vec\n",
    "            min_index = i\n",
    "\n",
    "    # использование имеющейся точки с минимальной длиной вектора\n",
    "    result = [points[min_index], points[min_index+1]]\n",
    "\n",
    "    return result"
   ]
  },
  {
   "cell_type": "code",
   "execution_count": 104,
   "id": "21ff6581",
   "metadata": {},
   "outputs": [
    {
     "data": {
      "text/plain": [
       "[1, 2]"
      ]
     },
     "execution_count": 104,
     "metadata": {},
     "output_type": "execute_result"
    }
   ],
   "source": [
    "a = [5,6,7,8,3,4,1,2,10,12,-4,-2]\n",
    "b = search_min_coords(a)\n",
    "b"
   ]
  },
  {
   "cell_type": "code",
   "execution_count": 123,
   "id": "4a1f85cd",
   "metadata": {},
   "outputs": [
    {
     "data": {
      "text/plain": [
       "{0: {'name': '1', 'id': 0, 'color': [0, 0, 0], 'type': 'upper', 'swap': ''},\n",
       " 1: {'name': '2', 'id': 1, 'color': [20, 0, 0], 'type': 'upper', 'swap': ''},\n",
       " 2: {'name': '3', 'id': 2, 'color': [20, 0, 20], 'type': 'upper', 'swap': ''},\n",
       " 3: {'name': '4', 'id': 3, 'color': [20, 20, 20], 'type': 'upper', 'swap': ''},\n",
       " 4: {'name': '5', 'id': 4, 'color': [40, 20, 20], 'type': 'upper', 'swap': ''},\n",
       " 5: {'name': '6', 'id': 5, 'color': [40, 40, 20], 'type': 'upper', 'swap': ''},\n",
       " 6: {'name': '7', 'id': 6, 'color': [40, 40, 40], 'type': 'upper', 'swap': ''},\n",
       " 7: {'name': '8', 'id': 7, 'color': [60, 40, 40], 'type': 'upper', 'swap': ''},\n",
       " 8: {'name': '9', 'id': 8, 'color': [60, 40, 60], 'type': 'upper', 'swap': ''},\n",
       " 9: {'name': '10',\n",
       "  'id': 9,\n",
       "  'color': [60, 60, 60],\n",
       "  'type': 'upper',\n",
       "  'swap': ''},\n",
       " 10: {'name': '11',\n",
       "  'id': 10,\n",
       "  'color': [80, 60, 60],\n",
       "  'type': 'upper',\n",
       "  'swap': ''},\n",
       " 11: {'name': '12',\n",
       "  'id': 11,\n",
       "  'color': [80, 80, 60],\n",
       "  'type': 'upper',\n",
       "  'swap': ''},\n",
       " 12: {'name': '13',\n",
       "  'id': 12,\n",
       "  'color': [80, 80, 80],\n",
       "  'type': 'upper',\n",
       "  'swap': ''},\n",
       " 13: {'name': '14',\n",
       "  'id': 13,\n",
       "  'color': [100, 80, 80],\n",
       "  'type': 'upper',\n",
       "  'swap': ''},\n",
       " 14: {'name': '15',\n",
       "  'id': 14,\n",
       "  'color': [100, 80, 100],\n",
       "  'type': 'upper',\n",
       "  'swap': ''},\n",
       " 15: {'name': '16',\n",
       "  'id': 15,\n",
       "  'color': [100, 100, 100],\n",
       "  'type': 'upper',\n",
       "  'swap': ''},\n",
       " 16: {'name': '17',\n",
       "  'id': 16,\n",
       "  'color': [120, 100, 100],\n",
       "  'type': 'upper',\n",
       "  'swap': ''},\n",
       " 17: {'name': '18',\n",
       "  'id': 17,\n",
       "  'color': [120, 120, 100],\n",
       "  'type': 'upper',\n",
       "  'swap': ''},\n",
       " 18: {'name': '19',\n",
       "  'id': 18,\n",
       "  'color': [120, 120, 120],\n",
       "  'type': 'upper',\n",
       "  'swap': ''},\n",
       " 19: {'name': '20',\n",
       "  'id': 19,\n",
       "  'color': [140, 120, 120],\n",
       "  'type': 'upper',\n",
       "  'swap': ''},\n",
       " 20: {'name': '21',\n",
       "  'id': 20,\n",
       "  'color': [140, 120, 140],\n",
       "  'type': 'upper',\n",
       "  'swap': ''},\n",
       " 21: {'name': '22',\n",
       "  'id': 21,\n",
       "  'color': [140, 140, 140],\n",
       "  'type': 'upper',\n",
       "  'swap': ''},\n",
       " 22: {'name': '23',\n",
       "  'id': 22,\n",
       "  'color': [160, 140, 140],\n",
       "  'type': 'upper',\n",
       "  'swap': ''},\n",
       " 23: {'name': '24',\n",
       "  'id': 23,\n",
       "  'color': [160, 160, 140],\n",
       "  'type': 'upper',\n",
       "  'swap': ''},\n",
       " 24: {'name': '25',\n",
       "  'id': 24,\n",
       "  'color': [160, 160, 160],\n",
       "  'type': 'upper',\n",
       "  'swap': ''},\n",
       " 25: {'name': '26',\n",
       "  'id': 25,\n",
       "  'color': [180, 160, 160],\n",
       "  'type': 'upper',\n",
       "  'swap': ''},\n",
       " 26: {'name': '27',\n",
       "  'id': 26,\n",
       "  'color': [180, 160, 180],\n",
       "  'type': 'upper',\n",
       "  'swap': ''},\n",
       " 27: {'name': '28',\n",
       "  'id': 27,\n",
       "  'color': [180, 180, 180],\n",
       "  'type': 'upper',\n",
       "  'swap': ''},\n",
       " 28: {'name': '29',\n",
       "  'id': 28,\n",
       "  'color': [200, 180, 180],\n",
       "  'type': 'upper',\n",
       "  'swap': ''},\n",
       " 29: {'name': '30',\n",
       "  'id': 29,\n",
       "  'color': [200, 200, 180],\n",
       "  'type': 'upper',\n",
       "  'swap': ''},\n",
       " 30: {'name': '31',\n",
       "  'id': 30,\n",
       "  'color': [200, 200, 200],\n",
       "  'type': 'upper',\n",
       "  'swap': ''},\n",
       " 31: {'name': '32',\n",
       "  'id': 31,\n",
       "  'color': [220, 200, 200],\n",
       "  'type': 'upper',\n",
       "  'swap': ''}}"
      ]
     },
     "execution_count": 123,
     "metadata": {},
     "output_type": "execute_result"
    }
   ],
   "source": [
    "# !ls ../config_files/pprofile_max.py\n",
    "\n",
    "keypoint_info=dict({\n",
    "        0:\n",
    "        dict(\n",
    "            name='0',\n",
    "            id=0,\n",
    "            color=[0, 0, 0],\n",
    "            type='upper',\n",
    "            swap=''),\n",
    "        1:\n",
    "        dict(\n",
    "            name='1',\n",
    "            id=1,\n",
    "            color=[150, 0, 0],\n",
    "            type='upper',\n",
    "            swap=''),\n",
    "        2:\n",
    "        dict(\n",
    "            name='2',\n",
    "            id=2,\n",
    "            color=[0, 150, 0],\n",
    "            type='upper',\n",
    "            swap='')\n",
    "})\n",
    "c = 20\n",
    "R, G, B = 0, 0, 0\n",
    "for i in range(32):\n",
    "    if i % 3 == 0:\n",
    "        keypoint_info.update({i:{'name':f'{i+1}', 'id':i, 'color':[R,G,B], 'type':'upper', 'swap':''}})\n",
    "        R += c\n",
    "    elif i % 2 == 0:\n",
    "        keypoint_info.update({i:{'name':f'{i+1}', 'id':i, 'color':[R,G,B], 'type':'upper', 'swap':''}})\n",
    "        G += c\n",
    "    else:\n",
    "        keypoint_info.update({i:{'name':f'{i+1}', 'id':i, 'color':[R,G,B], 'type':'upper', 'swap':''}})\n",
    "        B += c\n",
    "    \n",
    "keypoint_info\n"
   ]
  },
  {
   "cell_type": "code",
   "execution_count": 148,
   "id": "ed2e690d",
   "metadata": {},
   "outputs": [
    {
     "data": {
      "text/plain": [
       "{0: {'link': ('25', '23'), 'id': 0, 'color': [200, 200, 0]},\n",
       " 1: {'link': ('3', '4'), 'id': 1, 'color': [200, 200, 0]},\n",
       " 2: {'link': ('26', '27'), 'id': 2, 'color': [200, 200, 0]},\n",
       " 3: {'link': ('16', '17'), 'id': 3, 'color': [200, 200, 0]},\n",
       " 4: {'link': ('12', '13'), 'id': 4, 'color': [200, 200, 0]},\n",
       " 5: {'link': ('31', '32'), 'id': 5, 'color': [200, 200, 0]},\n",
       " 6: {'link': ('7', '32'), 'id': 6, 'color': [200, 200, 0]},\n",
       " 7: {'link': ('22', '23'), 'id': 7, 'color': [200, 200, 0]},\n",
       " 8: {'link': ('8', '9'), 'id': 8, 'color': [200, 200, 0]},\n",
       " 9: {'link': ('10', '12'), 'id': 9, 'color': [200, 200, 0]},\n",
       " 10: {'link': ('27', '28'), 'id': 10, 'color': [200, 200, 0]},\n",
       " 11: {'link': ('18', '19'), 'id': 11, 'color': [200, 200, 0]},\n",
       " 12: {'link': ('4', '5'), 'id': 12, 'color': [200, 200, 0]},\n",
       " 13: {'link': ('5', '6'), 'id': 13, 'color': [200, 200, 0]},\n",
       " 14: {'link': ('23', '24'), 'id': 14, 'color': [200, 200, 0]},\n",
       " 15: {'link': ('14', '15'), 'id': 15, 'color': [200, 200, 0]},\n",
       " 16: {'link': ('9', '10'), 'id': 16, 'color': [200, 200, 0]},\n",
       " 17: {'link': ('10', '11'), 'id': 17, 'color': [200, 200, 0]},\n",
       " 18: {'link': ('1', '2'), 'id': 18, 'color': [200, 200, 0]},\n",
       " 19: {'link': ('24', '1'), 'id': 19, 'color': [200, 200, 0]},\n",
       " 20: {'link': ('28', '29'), 'id': 20, 'color': [200, 200, 0]},\n",
       " 21: {'link': ('19', '20'), 'id': 21, 'color': [200, 200, 0]},\n",
       " 22: {'link': ('15', '16'), 'id': 22, 'color': [200, 200, 0]},\n",
       " 23: {'link': ('6', '7'), 'id': 23, 'color': [200, 200, 0]},\n",
       " 24: {'link': ('2', '25'), 'id': 24, 'color': [200, 200, 0]},\n",
       " 25: {'link': ('12', '14'), 'id': 25, 'color': [200, 200, 0]},\n",
       " 26: {'link': ('29', '30'), 'id': 26, 'color': [200, 200, 0]},\n",
       " 27: {'link': ('20', '21'), 'id': 27, 'color': [200, 200, 0]},\n",
       " 28: {'link': ('6', '31'), 'id': 28, 'color': [200, 200, 0]},\n",
       " 29: {'link': ('27', '20'), 'id': 29, 'color': [200, 200, 0]},\n",
       " 30: {'link': ('4', '28'), 'id': 30, 'color': [200, 200, 0]},\n",
       " 31: {'link': ('3', '26'), 'id': 31, 'color': [200, 200, 0]},\n",
       " 32: {'link': ('2', '3'), 'id': 32, 'color': [200, 200, 0]},\n",
       " 33: {'link': ('30', '19'), 'id': 33, 'color': [200, 200, 0]},\n",
       " 34: {'link': ('32', '16'), 'id': 34, 'color': [200, 200, 0]},\n",
       " 35: {'link': ('5', '29'), 'id': 35, 'color': [200, 200, 0]},\n",
       " 36: {'link': ('7', '8'), 'id': 36, 'color': [200, 200, 0]},\n",
       " 37: {'link': ('30', '31'), 'id': 37, 'color': [200, 200, 0]},\n",
       " 38: {'link': ('25', '26'), 'id': 38, 'color': [200, 200, 0]}}"
      ]
     },
     "execution_count": 148,
     "metadata": {},
     "output_type": "execute_result"
    }
   ],
   "source": [
    "with open('../data/pprofile_max/val.json', 'r') as f:\n",
    "    val = json.load(f)\n",
    "    \n",
    "skeleton = val['categories'][0]['skeleton']\n",
    "skeleton_info={\n",
    "    0: dict(link=('25', '23'), id=0, color=[0, 0, 0]),\n",
    "    1: dict(link=('3', '4'), id=1, color=[150, 0, 0]),\n",
    "}\n",
    "c = 15\n",
    "R,G,B = 200,200,0\n",
    "for i in range(len(skeleton)):\n",
    "#     if i % 3 == 0:\n",
    "#         skeleton_info.update({i: dict(link=(skeleton[i][0], skeleton[i][1]), id=i, color=[R,G,B])})\n",
    "#         R += c\n",
    "#     elif i % 2 == 0:\n",
    "#         skeleton_info.update({i: dict(link=(skeleton[i][0], skeleton[i][1]), id=i, color=[R,G,B])})\n",
    "#         G += c\n",
    "#     else:\n",
    "#         skeleton_info.update({i: dict(link=(skeleton[i][0], skeleton[i][1]), id=i, color=[R,G,B])})\n",
    "#         B += c\n",
    "    skeleton_info.update({i: dict(link=(f\"{skeleton[i][0]}\", f\"{skeleton[i][1]}\"), id=i, color=[R,G,B])})\n",
    "skeleton_info"
   ]
  },
  {
   "cell_type": "code",
   "execution_count": 147,
   "id": "7e6ab7f7",
   "metadata": {},
   "outputs": [
    {
     "data": {
      "text/plain": [
       "[20, 21, 22, 23, 24, 25, 26, 27, 28, 29, 30, 31]"
      ]
     },
     "execution_count": 147,
     "metadata": {},
     "output_type": "execute_result"
    }
   ],
   "source": [
    "a = []\n",
    "for i in range(20,32):\n",
    "    a.append(i)\n",
    "a"
   ]
  },
  {
   "cell_type": "code",
   "execution_count": 158,
   "id": "a64d47ae",
   "metadata": {},
   "outputs": [
    {
     "name": "stdout",
     "output_type": "stream",
     "text": [
      "3\n",
      "4\n"
     ]
    }
   ],
   "source": [
    "c = {'aqe':[1,3], 'bxvb':[2,4]}\n",
    "for x in c.values():\n",
    "    print(x[1])"
   ]
  },
  {
   "cell_type": "code",
   "execution_count": 160,
   "id": "381a0208",
   "metadata": {},
   "outputs": [
    {
     "data": {
      "text/plain": [
       "(20, 21, 22, 23, 24, 25, 26, 27, 28, 29, 30, 31)"
      ]
     },
     "execution_count": 160,
     "metadata": {},
     "output_type": "execute_result"
    }
   ],
   "source": [
    "tuple(a)"
   ]
  },
  {
   "cell_type": "code",
   "execution_count": 168,
   "id": "ee386cc9",
   "metadata": {},
   "outputs": [
    {
     "name": "stdout",
     "output_type": "stream",
     "text": [
      "10\n"
     ]
    }
   ],
   "source": [
    "a = None\n",
    "if not a:\n",
    "    print(10)"
   ]
  },
  {
   "cell_type": "code",
   "execution_count": 171,
   "id": "2e82921f",
   "metadata": {},
   "outputs": [
    {
     "name": "stdout",
     "output_type": "stream",
     "text": [
      "True\n"
     ]
    }
   ],
   "source": [
    "print(os.path.exists('../yolo_pprofile640.pt'))"
   ]
  },
  {
   "cell_type": "code",
   "execution_count": 204,
   "id": "210a7101",
   "metadata": {},
   "outputs": [
    {
     "name": "stdout",
     "output_type": "stream",
     "text": [
      "CITATION.cff\t benchmarks.py\texport.py\t requirements.txt  utils\n",
      "CONTRIBUTING.md  classify\thubconf.py\t runs\t\t   val.py\n",
      "LICENSE\t\t coco\t\tmodels\t\t segment\t   wandb\n",
      "README.md\t data\t\tmy_datasets\t setup.cfg\t   yolov5s.pt\n",
      "README.zh-CN.md  dataset\tmy_detect.ipynb  train.py\n",
      "__pycache__\t detect.py\tmy_start.ipynb\t tutorial.ipynb\n",
      "['/root/mmpose/custom_scripts', '/opt/conda/lib/python38.zip', '/opt/conda/lib/python3.8', '/opt/conda/lib/python3.8/lib-dynload', '', '/opt/conda/lib/python3.8/site-packages']\n"
     ]
    },
    {
     "ename": "ModuleNotFoundError",
     "evalue": "No module named 'mmcv'",
     "output_type": "error",
     "traceback": [
      "\u001b[0;31m---------------------------------------------------------------------------\u001b[0m",
      "\u001b[0;31mModuleNotFoundError\u001b[0m                       Traceback (most recent call last)",
      "Input \u001b[0;32mIn [204]\u001b[0m, in \u001b[0;36m<cell line: 6>\u001b[0;34m()\u001b[0m\n\u001b[1;32m      4\u001b[0m sys\u001b[38;5;241m.\u001b[39mpath\u001b[38;5;241m.\u001b[39mpop()\n\u001b[1;32m      5\u001b[0m \u001b[38;5;28mprint\u001b[39m(sys\u001b[38;5;241m.\u001b[39mpath)\n\u001b[0;32m----> 6\u001b[0m \u001b[38;5;28;01mimport\u001b[39;00m \u001b[38;5;21;01mdetect\u001b[39;00m\n",
      "File \u001b[0;32m~/mmpose/custom_scripts/detect.py:30\u001b[0m, in \u001b[0;36m<module>\u001b[0;34m\u001b[0m\n\u001b[1;32m      1\u001b[0m \u001b[38;5;66;03m# import cv2\u001b[39;00m\n\u001b[1;32m      2\u001b[0m \u001b[38;5;66;03m# import numpy as np\u001b[39;00m\n\u001b[1;32m      3\u001b[0m \u001b[38;5;66;03m# from mmpose.pose_estimation import load_model\u001b[39;00m\n\u001b[0;32m   (...)\u001b[0m\n\u001b[1;32m     28\u001b[0m \n\u001b[1;32m     29\u001b[0m \u001b[38;5;66;03m# +\u001b[39;00m\n\u001b[0;32m---> 30\u001b[0m \u001b[38;5;28;01mimport\u001b[39;00m \u001b[38;5;21;01mmmcv\u001b[39;00m\n\u001b[1;32m     31\u001b[0m \u001b[38;5;28;01mfrom\u001b[39;00m \u001b[38;5;21;01mmmpose\u001b[39;00m\u001b[38;5;21;01m.\u001b[39;00m\u001b[38;5;21;01mapis\u001b[39;00m \u001b[38;5;28;01mimport\u001b[39;00m init_pose_model, inference_top_down_pose_model, inference_bottom_up_pose_model, vis_pose_result\n\u001b[1;32m     32\u001b[0m \u001b[38;5;66;03m# from mmpose.visualization import vis_pose_result\u001b[39;00m\n\u001b[1;32m     33\u001b[0m \n\u001b[1;32m     34\u001b[0m \n\u001b[1;32m     35\u001b[0m \u001b[38;5;66;03m# Путь к конфигурационному файлу модели\u001b[39;00m\n",
      "\u001b[0;31mModuleNotFoundError\u001b[0m: No module named 'mmcv'"
     ]
    }
   ],
   "source": [
    "import sys\n",
    "!ls ../../Projects/yolov5/\n",
    "# sys.path.append('....')\n",
    "sys.path.pop()\n",
    "print(sys.path)\n",
    "import detect\n"
   ]
  },
  {
   "cell_type": "code",
   "execution_count": null,
   "id": "71c534d3",
   "metadata": {},
   "outputs": [],
   "source": []
  },
  {
   "cell_type": "code",
   "execution_count": 1,
   "id": "243ecb19",
   "metadata": {},
   "outputs": [],
   "source": [
    "import numpy as np\n",
    "import cv2\n",
    "\n"
   ]
  },
  {
   "cell_type": "code",
   "execution_count": 2,
   "id": "609df55f",
   "metadata": {},
   "outputs": [],
   "source": []
  },
  {
   "cell_type": "code",
   "execution_count": 23,
   "id": "f2989d6d",
   "metadata": {},
   "outputs": [
    {
     "data": {
      "text/plain": [
       "(2550, 3510, 3)"
      ]
     },
     "execution_count": 23,
     "metadata": {},
     "output_type": "execute_result"
    }
   ],
   "source": [
    "im1.shape"
   ]
  },
  {
   "cell_type": "code",
   "execution_count": null,
   "id": "9055331e",
   "metadata": {},
   "outputs": [],
   "source": []
  }
 ],
 "metadata": {
  "kernelspec": {
   "display_name": "Python 3 (ipykernel)",
   "language": "python",
   "name": "python3"
  },
  "language_info": {
   "codemirror_mode": {
    "name": "ipython",
    "version": 3
   },
   "file_extension": ".py",
   "mimetype": "text/x-python",
   "name": "python",
   "nbconvert_exporter": "python",
   "pygments_lexer": "ipython3",
   "version": "3.8.13"
  }
 },
 "nbformat": 4,
 "nbformat_minor": 5
}
